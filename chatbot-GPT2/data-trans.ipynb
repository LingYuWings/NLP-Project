{
 "cells": [
  {
   "cell_type": "code",
   "execution_count": 2,
   "metadata": {},
   "outputs": [
    {
     "name": "stdout",
     "output_type": "stream",
     "text": [
      "已随机选取并保存5245个样本到JSON文件。\n"
     ]
    }
   ],
   "source": [
    "import json\n",
    "import random\n",
    "\n",
    "# 读取原始对话数据\n",
    "with open(\"processed_dialogues.txt\", \"r\") as file:\n",
    "    lines = file.readlines()\n",
    "\n",
    "# 分割对话数据为patterns和responses\n",
    "dialogues = []\n",
    "current_dialogue = {\"patterns\": [], \"responses\": []}\n",
    "\n",
    "for line in lines:\n",
    "    stripped_line = line.strip()\n",
    "    if stripped_line == \"\":\n",
    "        if current_dialogue[\"patterns\"] and current_dialogue[\"responses\"]:\n",
    "            dialogues.append(current_dialogue)\n",
    "        current_dialogue = {\"patterns\": [], \"responses\": []}\n",
    "    elif current_dialogue[\"patterns\"]:\n",
    "        current_dialogue[\"responses\"].append(stripped_line)\n",
    "    else:\n",
    "        current_dialogue[\"patterns\"].append(stripped_line)\n",
    "\n",
    "# 合并重复的patterns和responses\n",
    "unique_dialogues = []\n",
    "\n",
    "for dialogue in dialogues:\n",
    "    patterns = list(set(dialogue[\"patterns\"]))\n",
    "    responses = list(set(dialogue[\"responses\"]))\n",
    "    unique_dialogues.append({\"patterns\": patterns, \"responses\": responses})\n",
    "\n",
    "# 随机选取10%的数据\n",
    "num_samples = int(len(unique_dialogues) * 0.1)\n",
    "selected_samples = random.sample(unique_dialogues, num_samples)\n",
    "\n",
    "# 创建JSON数据\n",
    "intents = [{\"tag\": f\"movie-conv{i+1}\", \"patterns\": d[\"patterns\"], \"responses\": d[\"responses\"], \"context_set\": \"\"} for i, d in enumerate(selected_samples)]\n",
    "\n",
    "data = {\"intents\": intents}\n",
    "\n",
    "# 将数据保存为紧凑格式的JSON文件\n",
    "with open(\"selected_dialogues.json\", \"w\") as json_file:\n",
    "    json.dump(data, json_file, ensure_ascii=False, indent=None)\n",
    "\n",
    "print(f\"已随机选取并保存{num_samples}个样本到JSON文件。\")\n"
   ]
  }
 ],
 "metadata": {
  "kernelspec": {
   "display_name": "Python 3",
   "language": "python",
   "name": "python3"
  },
  "language_info": {
   "codemirror_mode": {
    "name": "ipython",
    "version": 3
   },
   "file_extension": ".py",
   "mimetype": "text/x-python",
   "name": "python",
   "nbconvert_exporter": "python",
   "pygments_lexer": "ipython3",
   "version": "3.11.1"
  },
  "orig_nbformat": 4
 },
 "nbformat": 4,
 "nbformat_minor": 2
}
