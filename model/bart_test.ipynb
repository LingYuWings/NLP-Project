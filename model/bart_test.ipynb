{
 "cells": [
  {
   "cell_type": "code",
   "execution_count": 2,
   "metadata": {},
   "outputs": [],
   "source": [
    "import pandas as pd\n",
    "import torch\n",
    "from transformers import BartTokenizer, BartForConditionalGeneration, BartConfig\n",
    "from torch.utils.data import DataLoader, Dataset\n",
    "conversations_df = pd.read_csv(\"./formatted_csv.csv\")"
   ]
  },
  {
   "cell_type": "code",
   "execution_count": 12,
   "metadata": {},
   "outputs": [],
   "source": [
    "class ConversationDataset(Dataset):\n",
    "    def __init__(self, conversations, tokenizer, max_length):\n",
    "        self.conversations = conversations\n",
    "        self.tokenizer = tokenizer\n",
    "        self.max_length = max_length\n",
    "    \n",
    "    def __len__(self):\n",
    "        return len(self.conversations)\n",
    "    \n",
    "    def __getitem__(self, idx):\n",
    "        conversation = self.conversations.iloc[idx]\n",
    "        speaker1 = str(conversation['Speaker1'])  # Convert to string\n",
    "        speaker2 = str(conversation['Speaker2'])  # Convert to string\n",
    "        input_text = speaker1 + \" <|endoftext|> \" + speaker2\n",
    "        inputs = self.tokenizer.encode(\n",
    "            input_text, \n",
    "            add_special_tokens=True, \n",
    "            max_length=self.max_length,\n",
    "            pad_to_max_length=True,\n",
    "            truncation=True\n",
    "        )\n",
    "        return {\"input_ids\": torch.tensor(inputs, dtype=torch.long)}\n"
   ]
  },
  {
   "cell_type": "code",
   "execution_count": 13,
   "metadata": {},
   "outputs": [],
   "source": [
    "# Load and preprocess your CSV data\n",
    "\n",
    "tokenizer = BartTokenizer.from_pretrained(\"facebook/bart-base\")\n",
    "max_length = 128\n",
    "dataset = ConversationDataset(conversations_df, tokenizer, max_length)\n",
    "dataloader = DataLoader(dataset, batch_size=4, shuffle=True)"
   ]
  },
  {
   "cell_type": "code",
   "execution_count": 14,
   "metadata": {},
   "outputs": [],
   "source": [
    "# 2. 模型选择和准备\n",
    "model_config = BartConfig.from_pretrained(\"facebook/bart-base\")\n",
    "model = BartForConditionalGeneration(config=model_config)\n",
    "\n",
    "# 3. 微调模型\n",
    "device = torch.device(\"cuda\" if torch.cuda.is_available() else \"cpu\")\n",
    "model.to(device)\n",
    "optimizer = torch.optim.AdamW(model.parameters(), lr=1e-4)"
   ]
  },
  {
   "cell_type": "code",
   "execution_count": null,
   "metadata": {},
   "outputs": [],
   "source": [
    "num_epochs = 5\n",
    "for epoch in range(num_epochs):\n",
    "    model.train()\n",
    "    # 使用 tqdm 创建进度条，并在每个 epoch 中更新\n",
    "    dataloader_iterator = tqdm(dataloader, desc=f\"Epoch {epoch+1}/{num_epochs}\", leave=False)\n",
    "    \n",
    "    for batch in dataloader_iterator:\n",
    "        inputs = batch['input_ids'].to(device)\n",
    "        labels = batch['input_ids'].to(device)\n",
    "        optimizer.zero_grad()\n",
    "        outputs = model(input_ids=inputs, labels=labels)\n",
    "        loss = outputs.loss\n",
    "        loss.backward()\n",
    "        optimizer.step()\n",
    "        \n",
    "        # 更新进度条，显示当前的损失\n",
    "        dataloader_iterator.set_postfix({\"Loss\": loss.item()}, refresh=True)"
   ]
  },
  {
   "cell_type": "code",
   "execution_count": null,
   "metadata": {},
   "outputs": [],
   "source": [
    "model.save_pretrained(\"chatbot_bart_model\")"
   ]
  }
 ],
 "metadata": {
  "kernelspec": {
   "display_name": "Python 3",
   "language": "python",
   "name": "python3"
  },
  "language_info": {
   "codemirror_mode": {
    "name": "ipython",
    "version": 3
   },
   "file_extension": ".py",
   "mimetype": "text/x-python",
   "name": "python",
   "nbconvert_exporter": "python",
   "pygments_lexer": "ipython3",
   "version": "3.11.1"
  },
  "orig_nbformat": 4
 },
 "nbformat": 4,
 "nbformat_minor": 2
}
